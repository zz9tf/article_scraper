{
 "cells": [
  {
   "attachments": {},
   "cell_type": "markdown",
   "metadata": {},
   "source": [
    "## Selenum"
   ]
  },
  {
   "attachments": {},
   "cell_type": "markdown",
   "metadata": {},
   "source": [
    "### Basic_selenum set"
   ]
  },
  {
   "cell_type": "code",
   "execution_count": null,
   "metadata": {},
   "outputs": [],
   "source": [
    "from selenium.webdriver.support.ui import WebDriverWait\n",
    "from selenium.webdriver.support import expected_conditions as EC\n",
    "\n",
    "def wait_utill_response(driver, selector, filename):\n",
    "    field = WebDriverWait(driver, 60).until(\n",
    "        EC.visibility_of_element_located((selector, filename))\n",
    "    )\n",
    "    return field"
   ]
  },
  {
   "cell_type": "code",
   "execution_count": null,
   "metadata": {},
   "outputs": [],
   "source": [
    "def wait_for_window(self, timeout = 2):\n",
    "    import time\n",
    "    time.sleep(round(timeout / 1000))\n",
    "    wh_now = self.driver.window_handles\n",
    "    wh_then = self.vars[\"window_handles\"]\n",
    "    if len(wh_now) > len(wh_then):\n",
    "      return set(wh_now).difference(set(wh_then)).pop()"
   ]
  },
  {
   "cell_type": "code",
   "execution_count": null,
   "metadata": {},
   "outputs": [],
   "source": [
    "\n",
    "def basic_selenum():\n",
    "    import os\n",
    "    from selenium import webdriver\n",
    "    from selenium.webdriver.common.by import By\n",
    "    from selenium.webdriver.common.keys import Keys\n",
    "    from utils import read_env, helper_function\n",
    "\n",
    "    driver = webdriver.Chrome() # or other web driver of your choice\n",
    "    driver.get(\"https://www.sciencedirect.com/\")\n",
    "    driver.set_window_size(1280, 720)\n",
    "    driver.find_element(By.CSS_SELECTOR, \"#gh-signin-btn > .link-button-text\").click()\n",
    "    driver.find_element(By.ID, \"bdd-email\").click()\n",
    "    driver.find_element(By.ID, \"bdd-email\").send_keys(os.getenv('email'))\n",
    "    driver.find_element(By.ID, \"bdd-email\").send_keys(Keys.ENTER)\n",
    "    wait_utill_response(driver, By.CSS_SELECTOR, \".els-container-right\").click()\n",
    "    wait_utill_response(driver, By.ID, \"username\").send_keys(os.getenv('email'))\n",
    "    wait_utill_response(driver, By.ID, \"password\").send_keys(os.getenv('password'))\n",
    "    wait_utill_response(driver, By.ID, \"password\").send_keys(Keys.ENTER)\n",
    "    wait_utill_response(driver, By.ID, \"trust-browser-button\").click()\n",
    "    wait_utill_response(driver, By.NAME, \"_eventId_proceed\").click()\n",
    "    # driver.get('https://www.sciencedirect.com/science/article/pii/S2667025923000201')\n",
    "    \n",
    "    # wh_then = driver.window_handles\n",
    "    \n",
    "    # driver.find_element(By.CSS_SELECTOR, \".link-button-text:nth-child(2)\").click()\n",
    "    # time.sleep(round(2000 / 1000))\n",
    "    # wh_now = driver.window_handles\n",
    "    \n",
    "    # if len(wh_now) > len(wh_then):\n",
    "    #   driver.switch_to.window(set(wh_now).difference(set(wh_then)).pop())\n",
    "\n",
    "    input()\n",
    "    driver.quit()\n",
    "\n",
    "basic_selenum()"
   ]
  },
  {
   "cell_type": "code",
   "execution_count": 12,
   "metadata": {},
   "outputs": [
    {
     "name": "stdout",
     "output_type": "stream",
     "text": [
      "True\n",
      "https://api.elsevier.com/content/object/eid/1-s2.0-S2667025923000031-am.pdf?httpAccept=application/pdf\n"
     ]
    }
   ],
   "source": [
    "import json\n",
    "with open('../log/view.html', 'r') as f:\n",
    "    js = json.load(f)\n",
    "\n",
    "link = None\n",
    "result = js['choices']['choice']\n",
    "print(type(result) is dict)\n",
    "if type(result) == dict:\n",
    "    if result['@type'] == 'AAM-PDF':\n",
    "        link = result['$']\n",
    "else:\n",
    "    for url in result:\n",
    "        if url['@type'] == 'AAM-PDF':\n",
    "            link = url['$']\n",
    "print(link)"
   ]
  },
  {
   "cell_type": "code",
   "execution_count": null,
   "metadata": {},
   "outputs": [],
   "source": [
    "from selenium import webdriver\n",
    "driver = webdriver.Chrome() # or other web driver of your choice\n",
    "driver.get(\"https://www.sciencedirect.com/\")\n",
    "input()    \n",
    "driver.quit()"
   ]
  },
  {
   "cell_type": "code",
   "execution_count": null,
   "metadata": {},
   "outputs": [],
   "source": [
    "r.status_code"
   ]
  },
  {
   "attachments": {},
   "cell_type": "markdown",
   "metadata": {},
   "source": [
    "# Scoups"
   ]
  },
  {
   "cell_type": "code",
   "execution_count": null,
   "metadata": {},
   "outputs": [],
   "source": [
    "import os\n",
    "import numpy as np\n",
    "import requests\n",
    "import json\n",
    "import pandas as pd\n",
    "from scraper import scrap\n",
    "from utils import read_env, helper_function\n",
    "import time"
   ]
  },
  {
   "cell_type": "code",
   "execution_count": null,
   "metadata": {},
   "outputs": [],
   "source": [
    "pii = 'https://www.sciencedirect.com/science/article/pii/S2468233023000129'.split('/')[-1]\n",
    "link = 'https://api.elsevier.com/content/object/pii/{}'.format(pii)\n",
    "params = { 'apiKey': os.getenv('scopus_api_key'), 'httpAccept':'application/json' }\n",
    "r = requests.get(link, params=params, timeout=60)\n",
    "js = r.json()\n",
    "with open('view.html', 'w') as f:\n",
    "    json.dump(js, f, indent=4)\n",
    "\n",
    "print(r.url)\n",
    "print(r.status_code)\n",
    "\n",
    "for url in js['choices']['choice']:\n",
    "    if url['@type'] == 'AAM-PDF':\n",
    "        link = url['$']\n",
    "params = { 'apiKey': os.getenv('scopus_api_key')}\n",
    "r = requests.get(link, params=params, timeout=60)\n",
    "s._save_file('test', r)"
   ]
  },
  {
   "cell_type": "code",
   "execution_count": null,
   "metadata": {},
   "outputs": [],
   "source": []
  },
  {
   "cell_type": "code",
   "execution_count": null,
   "metadata": {},
   "outputs": [],
   "source": [
    "key = os.getenv('scopus_api_key')\n",
    "s = scrap(key)\n",
    "s.set_verbose(True)\n",
    "s.download_articles(20000, \"\", results=\"result.csv\")"
   ]
  },
  {
   "cell_type": "code",
   "execution_count": null,
   "metadata": {},
   "outputs": [],
   "source": [
    "s = scrap(os.getenv('scopus_api_key'))\n",
    "s.inquire_num = 20000\n",
    "s.query = 'monosaccharides'\n",
    "s.start = 0\n",
    "s.downloaded = 0\n",
    "s.cursor = 'AoJVuYJNMjItczIuMC04NTA2NzEwMzY1Mg==' if True else None  # limit number 5000"
   ]
  },
  {
   "cell_type": "code",
   "execution_count": null,
   "metadata": {},
   "outputs": [],
   "source": [
    "js = s._search_article_names_from_scopus(21025)\n",
    "s.remain_usage"
   ]
  },
  {
   "cell_type": "code",
   "execution_count": null,
   "metadata": {},
   "outputs": [],
   "source": [
    "entries = js['search-results']['entry']\n",
    "result = [s._parse_article(entry) for entry in entries]\n",
    "pd.DataFrame(result)"
   ]
  },
  {
   "cell_type": "code",
   "execution_count": null,
   "metadata": {},
   "outputs": [],
   "source": [
    "from utils.proxy_headers import _get_proxies\n",
    "\n",
    "proxies = _get_proxies()"
   ]
  },
  {
   "cell_type": "code",
   "execution_count": null,
   "metadata": {},
   "outputs": [],
   "source": [
    "import os\n",
    "def interceptor(request):\n",
    "    request.headers = os.getenv('headers')"
   ]
  },
  {
   "cell_type": "code",
   "execution_count": null,
   "metadata": {},
   "outputs": [],
   "source": [
    "import requests\n",
    "\n",
    "params = {\n",
    "    'hl': 'en',\n",
    "    'q': 'The antagonistic activity of the synbiotic containing Lactobacillus acidophilus and pineapple residue FOS against pathogenic bacteria',\n",
    "    'as_sdt': '0,22',\n",
    "    'btnG': ''\n",
    "}\n",
    "google_scholar_url = \"https://scholar.google.com/scholar\"\n",
    "r = requests.get(google_scholar_url, params=params, headers=os.getenv('headers'), proxies=proxies[1])\n",
    "with open('view.html', 'wb') as f:\n",
    "    f.write(r.content)"
   ]
  },
  {
   "cell_type": "code",
   "execution_count": null,
   "metadata": {},
   "outputs": [],
   "source": [
    "from bs4 import BeautifulSoup\n",
    "from urllib.parse import urlencode\n",
    "from seleniumwire import webdriver\n",
    "from selenium.webdriver.chrome.options import Options\n",
    "\n",
    "p = proxies[1]\n",
    "chrome_options = Options()\n",
    "# chrome_options.add_argument('--headless')  # Set headless mode\n",
    "driver = webdriver.Chrome(seleniumwire_options=p, options=chrome_options)\n",
    "# driver.request_interceptor = interceptor\n",
    "# for key in dir(driver.request_interceptor):\n",
    "#     print(key)\n",
    "params = {\n",
    "    'hl': 'en',\n",
    "    'q': 'The antagonistic activity of the synbiotic containing Lactobacillus acidophilus and pineapple residue FOS against pathogenic bacteria',\n",
    "    'as_sdt': '0,22',\n",
    "    'btnG': ''\n",
    "}\n",
    "google_scholar_url = \"https://scholar.google.com/scholar\"\n",
    "driver.get(google_scholar_url + \"?\" + urlencode(params))\n",
    "input()\n",
    "driver.close()\n",
    "# r = driver.page_source\n",
    "# soup = BeautifulSoup(r, 'html.parser')\n",
    "# with open('view.html', 'w') as f:\n",
    "    # f.write(soup.prettify())"
   ]
  },
  {
   "cell_type": "code",
   "execution_count": null,
   "metadata": {},
   "outputs": [],
   "source": [
    "def basic_selenum():\n",
    "    from selenium import webdriver\n",
    "    from selenium.webdriver.common.by import By\n",
    "    from selenium.webdriver.support.ui import WebDriverWait\n",
    "    from selenium.webdriver.support import expected_conditions as EC\n",
    "\n",
    "    driver = webdriver.Chrome() # or other web driver of your choice\n",
    "    driver.get(\"https://www.nature.com/articles/s41598-023-33463-x\")\n",
    "    with open('view.html', 'w') as f:\n",
    "        f.write(driver.page_source)\n",
    "    # soup = BeautifulSoup(driver.page_source).prettify()\n",
    "    input()\n",
    "    # driver.close()\n",
    "basic_selenum()"
   ]
  },
  {
   "cell_type": "code",
   "execution_count": null,
   "metadata": {},
   "outputs": [],
   "source": [
    "import urllib, urllib.request\n",
    "url = 'http://export.arxiv.org/api/query?search_query=all:&start=0&max_results=1'\n",
    "data = urllib.request.urlopen(url)\n",
    "print(data.read().decode('utf-8'))"
   ]
  },
  {
   "cell_type": "code",
   "execution_count": null,
   "metadata": {},
   "outputs": [],
   "source": [
    "headers = {\n",
    "    \"Accept\": \"text/html,application/xhtml+xml,application/xml;q=0.9,image/avif,image/webp,image/apng,*/*;q=0.8,application/signed-exchange;v=b3;q=0.7\",\n",
    "    \"Accept-Encoding\": \"gzip, deflate, br\",\n",
    "    \"Accept-Language\": \"en-US,en;q=0.9,zh-CN;q=0.8,zh;q=0.7\",\n",
    "    \"Cache-Control\": \"max-age=0\",\n",
    "    \"Sec-Ch-Ua\": '\"Google Chrome\";v=\"113\", \"Chromium\";v=\"113\", \"Not-A.Brand\";v=\"24\"',\n",
    "    \"Sec-Ch-Ua-Mobile\": \"?0\",\n",
    "    \"Sec-Ch-Ua-Platform\": '\"macOS\"',\n",
    "    \"Sec-Fetch-Dest\": \"document\",\n",
    "    \"Sec-Fetch-Mode\": \"navigate\",\n",
    "    \"Sec-Fetch-Site\": \"none\",\n",
    "    \"Sec-Fetch-User\": \"?1\",\n",
    "    \"Upgrade-Insecure-Requests\": \"1\",\n",
    "    \"User-Agent\": \"Mozilla/5.0 (Macintosh; Intel Mac OS X 10_15_7) AppleWebKit/537.36 (KHTML, like Gecko) Chrome/113.0.0.0 Safari/537.36\"\n",
    "}\n"
   ]
  }
 ],
 "metadata": {
  "kernelspec": {
   "display_name": "base",
   "language": "python",
   "name": "python3"
  },
  "language_info": {
   "codemirror_mode": {
    "name": "ipython",
    "version": 3
   },
   "file_extension": ".py",
   "mimetype": "text/x-python",
   "name": "python",
   "nbconvert_exporter": "python",
   "pygments_lexer": "ipython3",
   "version": "3.10.9"
  },
  "orig_nbformat": 4,
  "vscode": {
   "interpreter": {
    "hash": "605e1b24415edcfc7b68676cd818305561c7af2fd1caebae2e8654d0b9bf23af"
   }
  }
 },
 "nbformat": 4,
 "nbformat_minor": 2
}
