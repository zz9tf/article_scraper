{
 "cells": [
  {
   "attachments": {},
   "cell_type": "markdown",
   "metadata": {},
   "source": [
    "## Selenum"
   ]
  },
  {
   "attachments": {},
   "cell_type": "markdown",
   "metadata": {},
   "source": [
    "### Basic_selenum set"
   ]
  },
  {
   "cell_type": "code",
   "execution_count": 1,
   "metadata": {},
   "outputs": [],
   "source": [
    "# def basic_selenum():\n",
    "#     from selenium import webdriver\n",
    "\n",
    "#     driver = webdriver.Chrome() # or other web driver of your choice\n",
    "#     driver.get(\"https://scholar.google.com/scholar?start=0&q=monosaccharides&hl=en&as_sdt=0,22\")\n",
    "#     input()\n",
    "# basic_selenum()"
   ]
  },
  {
   "attachments": {},
   "cell_type": "markdown",
   "metadata": {},
   "source": [
    "# Scoups"
   ]
  },
  {
   "cell_type": "code",
   "execution_count": 46,
   "metadata": {},
   "outputs": [],
   "source": [
    "import os\n",
    "import numpy as np\n",
    "import requests\n",
    "import json\n",
    "import pandas as pd\n",
    "from scraper import scrap\n",
    "from utils import read_env, helper_function\n",
    "from bs4 import BeautifulSoup\n",
    "import time"
   ]
  },
  {
   "cell_type": "code",
   "execution_count": 3,
   "metadata": {},
   "outputs": [],
   "source": [
    "s = scrap(os.getenv('scopus_api_key'))\n",
    "s.inquire_num = 10000\n",
    "s.query = '10000'\n",
    "s.start = 0\n",
    "s.downloaded = 0\n",
    "s.cursor = None if True else '*'  # limit number 5000\n"
   ]
  },
  {
   "cell_type": "code",
   "execution_count": 4,
   "metadata": {},
   "outputs": [
    {
     "data": {
      "text/plain": [
       "'19991'"
      ]
     },
     "execution_count": 4,
     "metadata": {},
     "output_type": "execute_result"
    }
   ],
   "source": [
    "js = s._search_article_names_from_scopus(0)\n",
    "s.remain_usage"
   ]
  },
  {
   "cell_type": "code",
   "execution_count": 5,
   "metadata": {},
   "outputs": [],
   "source": [
    "entries = js['search-results']['entry']\n",
    "results = pd.DataFrame([s._parse_article(entry) for entry in entries])"
   ]
  },
  {
   "cell_type": "code",
   "execution_count": 44,
   "metadata": {},
   "outputs": [],
   "source": [
    "results.to_csv('result.csv')"
   ]
  },
  {
   "cell_type": "code",
   "execution_count": 49,
   "metadata": {},
   "outputs": [],
   "source": [
    "def basic_selenum():\n",
    "    from selenium import webdriver\n",
    "    from selenium.webdriver.common.by import By\n",
    "    from selenium.webdriver.support.ui import WebDriverWait\n",
    "    from selenium.webdriver.support import expected_conditions as EC\n",
    "\n",
    "    driver = webdriver.Chrome() # or other web driver of your choice\n",
    "    driver.get(\"https://www.nature.com/articles/s41598-023-33463-x\")\n",
    "    # wait = WebDriverWait(driver, 10)\n",
    "    # wait.until(EC.presence_of_element_located((By.CLASS_NAME, 'gs_r')))\n",
    "    # # Find the search result links\n",
    "    # result_links = driver.find_elements(By.CSS_SELECTOR, 'div.gs_r h3 a')\n",
    "    # for link in result_links:\n",
    "    #     print(link)\n",
    "    with open('view.html', 'w') as f:\n",
    "        f.write(driver.page_source)\n",
    "    # soup = BeautifulSoup(driver.page_source).prettify()\n",
    "    input()\n",
    "    # driver.close()\n",
    "basic_selenum()"
   ]
  },
  {
   "cell_type": "code",
   "execution_count": 7,
   "metadata": {},
   "outputs": [
    {
     "name": "stdout",
     "output_type": "stream",
     "text": [
      "<?xml version=\"1.0\" encoding=\"UTF-8\"?>\n",
      "<feed xmlns=\"http://www.w3.org/2005/Atom\">\n",
      "  <link href=\"http://arxiv.org/api/query?search_query%3Dall%3A%26id_list%3D%26start%3D0%26max_results%3D1\" rel=\"self\" type=\"application/atom+xml\"/>\n",
      "  <title type=\"html\">ArXiv Query: search_query=all:&amp;id_list=&amp;start=0&amp;max_results=1</title>\n",
      "  <id>http://arxiv.org/api/hYsyt1co2/nRJpUCRYLGWcI8l6I</id>\n",
      "  <updated>2023-05-15T00:00:00-04:00</updated>\n",
      "  <opensearch:totalResults xmlns:opensearch=\"http://a9.com/-/spec/opensearch/1.1/\">0</opensearch:totalResults>\n",
      "  <opensearch:startIndex xmlns:opensearch=\"http://a9.com/-/spec/opensearch/1.1/\">0</opensearch:startIndex>\n",
      "  <opensearch:itemsPerPage xmlns:opensearch=\"http://a9.com/-/spec/opensearch/1.1/\">1</opensearch:itemsPerPage>\n",
      "</feed>\n",
      "\n"
     ]
    }
   ],
   "source": [
    "import urllib, urllib.request\n",
    "url = 'http://export.arxiv.org/api/query?search_query=all:&start=0&max_results=1'\n",
    "data = urllib.request.urlopen(url)\n",
    "print(data.read().decode('utf-8'))"
   ]
  }
 ],
 "metadata": {
  "kernelspec": {
   "display_name": "base",
   "language": "python",
   "name": "python3"
  },
  "language_info": {
   "codemirror_mode": {
    "name": "ipython",
    "version": 3
   },
   "file_extension": ".py",
   "mimetype": "text/x-python",
   "name": "python",
   "nbconvert_exporter": "python",
   "pygments_lexer": "ipython3",
   "version": "3.10.9"
  },
  "orig_nbformat": 4,
  "vscode": {
   "interpreter": {
    "hash": "605e1b24415edcfc7b68676cd818305561c7af2fd1caebae2e8654d0b9bf23af"
   }
  }
 },
 "nbformat": 4,
 "nbformat_minor": 2
}
