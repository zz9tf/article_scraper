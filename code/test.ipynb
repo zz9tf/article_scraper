{
 "cells": [
  {
   "attachments": {},
   "cell_type": "markdown",
   "metadata": {},
   "source": [
    "## Selenum"
   ]
  },
  {
   "attachments": {},
   "cell_type": "markdown",
   "metadata": {},
   "source": [
    "### Basic_selenum set"
   ]
  },
  {
   "cell_type": "code",
   "execution_count": null,
   "metadata": {},
   "outputs": [],
   "source": [
    "from selenium.webdriver.support.ui import WebDriverWait\n",
    "from selenium.webdriver.support import expected_conditions as EC\n",
    "\n",
    "def wait_utill_response(driver, selector, filename):\n",
    "    field = WebDriverWait(driver, 60).until(\n",
    "        EC.visibility_of_element_located((selector, filename))\n",
    "    )\n",
    "    return field"
   ]
  },
  {
   "cell_type": "code",
   "execution_count": null,
   "metadata": {},
   "outputs": [],
   "source": [
    "def wait_for_window(self, timeout = 2):\n",
    "    import time\n",
    "    time.sleep(round(timeout / 1000))\n",
    "    wh_now = self.driver.window_handles\n",
    "    wh_then = self.vars[\"window_handles\"]\n",
    "    if len(wh_now) > len(wh_then):\n",
    "      return set(wh_now).difference(set(wh_then)).pop()"
   ]
  },
  {
   "cell_type": "code",
   "execution_count": null,
   "metadata": {},
   "outputs": [],
   "source": [
    "\n",
    "def basic_selenum():\n",
    "    import os\n",
    "    from selenium import webdriver\n",
    "    from selenium.webdriver.common.by import By\n",
    "    from selenium.webdriver.common.keys import Keys\n",
    "    from utils import read_env, helper_function\n",
    "\n",
    "    driver = webdriver.Chrome() # or other web driver of your choice\n",
    "    driver.get(\"https://www.sciencedirect.com/\")\n",
    "    driver.set_window_size(1280, 720)\n",
    "    driver.find_element(By.CSS_SELECTOR, \"#gh-signin-btn > .link-button-text\").click()\n",
    "    driver.find_element(By.ID, \"bdd-email\").click()\n",
    "    driver.find_element(By.ID, \"bdd-email\").send_keys(os.getenv('email'))\n",
    "    driver.find_element(By.ID, \"bdd-email\").send_keys(Keys.ENTER)\n",
    "    wait_utill_response(driver, By.CSS_SELECTOR, \".els-container-right\").click()\n",
    "    wait_utill_response(driver, By.ID, \"username\").send_keys(os.getenv('email'))\n",
    "    wait_utill_response(driver, By.ID, \"password\").send_keys(os.getenv('password'))\n",
    "    wait_utill_response(driver, By.ID, \"password\").send_keys(Keys.ENTER)\n",
    "    wait_utill_response(driver, By.ID, \"trust-browser-button\").click()\n",
    "    wait_utill_response(driver, By.NAME, \"_eventId_proceed\").click()\n",
    "    # driver.get('https://www.sciencedirect.com/science/article/pii/S2667025923000201')\n",
    "    \n",
    "    # wh_then = driver.window_handles\n",
    "    \n",
    "    # driver.find_element(By.CSS_SELECTOR, \".link-button-text:nth-child(2)\").click()\n",
    "    # time.sleep(round(2000 / 1000))\n",
    "    # wh_now = driver.window_handles\n",
    "    \n",
    "    # if len(wh_now) > len(wh_then):\n",
    "    #   driver.switch_to.window(set(wh_now).difference(set(wh_then)).pop())\n",
    "\n",
    "    input()\n",
    "    driver.quit()\n",
    "\n",
    "basic_selenum()"
   ]
  },
  {
   "cell_type": "code",
   "execution_count": 12,
   "metadata": {},
   "outputs": [
    {
     "name": "stdout",
     "output_type": "stream",
     "text": [
      "True\n",
      "https://api.elsevier.com/content/object/eid/1-s2.0-S2667025923000031-am.pdf?httpAccept=application/pdf\n"
     ]
    }
   ],
   "source": [
    "import json\n",
    "with open('../log/view.html', 'r') as f:\n",
    "    js = json.load(f)\n",
    "\n",
    "link = None\n",
    "result = js['choices']['choice']\n",
    "print(type(result) is dict)\n",
    "if type(result) == dict:\n",
    "    if result['@type'] == 'AAM-PDF':\n",
    "        link = result['$']\n",
    "else:\n",
    "    for url in result:\n",
    "        if url['@type'] == 'AAM-PDF':\n",
    "            link = url['$']\n",
    "print(link)"
   ]
  },
  {
   "cell_type": "code",
   "execution_count": null,
   "metadata": {},
   "outputs": [],
   "source": [
    "from selenium import webdriver\n",
    "driver = webdriver.Chrome() # or other web driver of your choice\n",
    "driver.get(\"https://www.sciencedirect.com/\")\n",
    "input()    \n",
    "driver.quit()"
   ]
  },
  {
   "cell_type": "code",
   "execution_count": null,
   "metadata": {},
   "outputs": [],
   "source": [
    "r.status_code"
   ]
  },
  {
   "attachments": {},
   "cell_type": "markdown",
   "metadata": {},
   "source": [
    "# Scoups"
   ]
  },
  {
   "cell_type": "code",
   "execution_count": 2,
   "metadata": {},
   "outputs": [],
   "source": [
    "import os\n",
    "import numpy as np\n",
    "import requests\n",
    "import json\n",
    "import pandas as pd\n",
    "from scraper import scrap\n",
    "from utils import read_env, helper_function\n",
    "import time"
   ]
  },
  {
   "cell_type": "code",
   "execution_count": 3,
   "metadata": {},
   "outputs": [
    {
     "name": "stdout",
     "output_type": "stream",
     "text": [
      "https://api.elsevier.com/content/object/eid/1-s2.0-S0308814623007707-am.pdf?httpAccept=application/pdf\n",
      "Saving pdf file: test\n",
      "Saving txt file: test\n",
      "False\n"
     ]
    }
   ],
   "source": [
    "# pii = 'https://www.sciencedirect.com/science/article/pii/S2468233023000129'.split('/')[-1]\n",
    "# link = 'https://api.elsevier.com/content/object/pii/{}'.format(pii)\n",
    "link = 'https://api.elsevier.com/content/object/eid/1-s2.0-S0308814623007707'\n",
    "params = { 'apiKey': os.getenv('scopus_api_key'), 'httpAccept':'application/json' }\n",
    "r = requests.get(link, params=params, timeout=60)\n",
    "js = r.json()\n",
    "with open('view.html', 'w') as f:\n",
    "    json.dump(js, f, indent=4)\n",
    "\n",
    "for url in js['choices']['choice']:\n",
    "    if url['@type'] == 'AAM-PDF':\n",
    "        link = url['$']\n",
    "print(link)\n",
    "params = { 'apiKey': os.getenv('scopus_api_key')}\n",
    "r = requests.get(link, params=params, timeout=60)\n",
    "print(s._save_file('test', r))"
   ]
  },
  {
   "cell_type": "code",
   "execution_count": 4,
   "metadata": {},
   "outputs": [
    {
     "name": "stdout",
     "output_type": "stream",
     "text": [
      "Saving pdf file: test\n",
      "Saving txt file: test\n",
      "True\n"
     ]
    }
   ],
   "source": [
    "link = 'https://link.springer.com/content/pdf/10.1186/s43141-023-00488-8.pdf?pdf=button'\n",
    "r = requests.get(link)\n",
    "print(s._save_file('test', r))"
   ]
  },
  {
   "cell_type": "code",
   "execution_count": 3,
   "metadata": {},
   "outputs": [],
   "source": [
    "key = os.getenv('scopus_api_key')\n",
    "s = scrap(key)\n",
    "s.set_verbose(True)\n",
    "# s.download_articles(20000, \"\", results=\"result.csv\")"
   ]
  },
  {
   "cell_type": "code",
   "execution_count": null,
   "metadata": {},
   "outputs": [],
   "source": [
    "s = scrap(os.getenv('scopus_api_key'))\n",
    "s.inquire_num = 20000\n",
    "s.query = 'monosaccharides'\n",
    "s.start = 0\n",
    "s.downloaded = 0\n",
    "s.cursor = 'AoJVuYJNMjItczIuMC04NTA2NzEwMzY1Mg==' if True else None  # limit number 5000"
   ]
  },
  {
   "cell_type": "code",
   "execution_count": null,
   "metadata": {},
   "outputs": [],
   "source": [
    "js = s._search_article_names_from_scopus(21025)\n",
    "s.remain_usage"
   ]
  },
  {
   "cell_type": "code",
   "execution_count": null,
   "metadata": {},
   "outputs": [],
   "source": [
    "entries = js['search-results']['entry']\n",
    "result = [s._parse_article(entry) for entry in entries]\n",
    "pd.DataFrame(result)"
   ]
  },
  {
   "cell_type": "code",
   "execution_count": null,
   "metadata": {},
   "outputs": [],
   "source": [
    "from utils.proxy_headers import _get_proxies\n",
    "\n",
    "proxies = _get_proxies()"
   ]
  },
  {
   "cell_type": "code",
   "execution_count": 13,
   "metadata": {},
   "outputs": [
    {
     "name": "stdout",
     "output_type": "stream",
     "text": [
      "256\n"
     ]
    }
   ],
   "source": [
    "title = 'Xylanopectinolytic enzymes by marine actinomycetes from sediments of Sarena Kecil, North Sulawesi high potential to produce galacturonic acid and xylooligosaccharides from raw biomass'\n",
    "\n",
    "pdf_path = os.path.join(s.save_folder , \"download_pdf\", title + \".pdf\")\n",
    "\n",
    "print(len(pdf_path))\n",
    "\n",
    "with open(pdf_path[:250]+'.pdf', 'wb') as pdf:\n",
    "    pdf.write(r.content)"
   ]
  }
 ],
 "metadata": {
  "kernelspec": {
   "display_name": "base",
   "language": "python",
   "name": "python3"
  },
  "language_info": {
   "codemirror_mode": {
    "name": "ipython",
    "version": 3
   },
   "file_extension": ".py",
   "mimetype": "text/x-python",
   "name": "python",
   "nbconvert_exporter": "python",
   "pygments_lexer": "ipython3",
   "version": "3.10.9"
  },
  "orig_nbformat": 4,
  "vscode": {
   "interpreter": {
    "hash": "605e1b24415edcfc7b68676cd818305561c7af2fd1caebae2e8654d0b9bf23af"
   }
  }
 },
 "nbformat": 4,
 "nbformat_minor": 2
}
